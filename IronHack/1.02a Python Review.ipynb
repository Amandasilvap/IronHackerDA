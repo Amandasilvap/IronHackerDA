{
 "cells": [
  {
   "cell_type": "code",
   "execution_count": 33,
   "id": "849682f0",
   "metadata": {},
   "outputs": [],
   "source": [
    "# a variable is a location that can store a value; \n",
    "# think of a piece of paper on which you write the value\n",
    "\n",
    "advance = 3 #integer\n",
    "pi = 3.14 # float\n",
    "answer = \"This is a text, string\"  #string\n",
    "tokens = [1, 3, 25]  #list\n",
    "mixedbag = [0, 3.567, 'word', ['another list', 7]]  #also a lis "
   ]
  },
  {
   "cell_type": "code",
   "execution_count": 34,
   "id": "59dc42aa",
   "metadata": {},
   "outputs": [
    {
     "data": {
      "text/plain": [
       "[0, 3.567, 'word', ['another list', 7]]"
      ]
     },
     "execution_count": 34,
     "metadata": {},
     "output_type": "execute_result"
    }
   ],
   "source": [
    "mixedbag"
   ]
  },
  {
   "cell_type": "code",
   "execution_count": 35,
   "id": "186a6833",
   "metadata": {},
   "outputs": [
    {
     "name": "stdout",
     "output_type": "stream",
     "text": [
      "3\n"
     ]
    }
   ],
   "source": [
    "print(advance)"
   ]
  },
  {
   "cell_type": "code",
   "execution_count": 36,
   "id": "225eb9b1",
   "metadata": {},
   "outputs": [
    {
     "data": {
      "text/plain": [
       "6.14"
      ]
     },
     "execution_count": 36,
     "metadata": {},
     "output_type": "execute_result"
    }
   ],
   "source": [
    "round(advance + pi,2)"
   ]
  },
  {
   "cell_type": "code",
   "execution_count": 39,
   "id": "c6ca9ae8",
   "metadata": {},
   "outputs": [],
   "source": [
    "advance = advance ** 2"
   ]
  },
  {
   "cell_type": "code",
   "execution_count": 41,
   "id": "797b3f42",
   "metadata": {},
   "outputs": [
    {
     "data": {
      "text/plain": [
       "81"
      ]
     },
     "execution_count": 41,
     "metadata": {},
     "output_type": "execute_result"
    }
   ],
   "source": [
    "advance"
   ]
  },
  {
   "cell_type": "code",
   "execution_count": 42,
   "id": "ddeb2c6f",
   "metadata": {},
   "outputs": [],
   "source": [
    "total = advance % 2"
   ]
  },
  {
   "cell_type": "code",
   "execution_count": 43,
   "id": "173b0311",
   "metadata": {},
   "outputs": [
    {
     "data": {
      "text/plain": [
       "1"
      ]
     },
     "execution_count": 43,
     "metadata": {},
     "output_type": "execute_result"
    }
   ],
   "source": [
    "total"
   ]
  },
  {
   "cell_type": "code",
   "execution_count": 53,
   "id": "aeb6474a",
   "metadata": {},
   "outputs": [],
   "source": [
    "bet = 4.0001\n",
    "if bet > 5:\n",
    "    allowance = 42\n",
    "else:\n",
    "    allowance = 13"
   ]
  },
  {
   "cell_type": "code",
   "execution_count": 48,
   "id": "8a41ce83",
   "metadata": {},
   "outputs": [
    {
     "data": {
      "text/plain": [
       "13"
      ]
     },
     "execution_count": 48,
     "metadata": {},
     "output_type": "execute_result"
    }
   ],
   "source": [
    "allowance"
   ]
  },
  {
   "cell_type": "code",
   "execution_count": 57,
   "id": "a718fde2",
   "metadata": {},
   "outputs": [
    {
     "name": "stdout",
     "output_type": "stream",
     "text": [
      "18\n"
     ]
    }
   ],
   "source": [
    "bet = 4.0001\n",
    "if bet > 5:\n",
    "    allowance = 42\n",
    "elif bet > 0:\n",
    "    allowance = 18\n",
    "else:\n",
    "    allowance = 13\n",
    "    \n",
    "print(allowance)"
   ]
  },
  {
   "cell_type": "code",
   "execution_count": 58,
   "id": "16010404",
   "metadata": {},
   "outputs": [
    {
     "name": "stdout",
     "output_type": "stream",
     "text": [
      "0\n",
      "3.567\n",
      "word\n",
      "['another list', 7]\n"
     ]
    }
   ],
   "source": [
    "#for loop\n",
    "\n",
    "for el in mixedbag:\n",
    "    print(el)"
   ]
  },
  {
   "cell_type": "code",
   "execution_count": 59,
   "id": "9e0d12a6",
   "metadata": {},
   "outputs": [
    {
     "name": "stdout",
     "output_type": "stream",
     "text": [
      "0\n",
      "1\n",
      "2\n",
      "3\n",
      "4\n",
      "5\n",
      "6\n",
      "7\n",
      "8\n",
      "9\n"
     ]
    }
   ],
   "source": [
    "#for loop\n",
    "\n",
    "for i in range(10):\n",
    "    print(i)"
   ]
  },
  {
   "cell_type": "code",
   "execution_count": 61,
   "id": "9083efab",
   "metadata": {},
   "outputs": [
    {
     "name": "stdout",
     "output_type": "stream",
     "text": [
      "0\n",
      "1\n",
      "2\n",
      "3\n",
      "4\n",
      "5\n",
      "6\n",
      "7\n",
      "8\n",
      "9\n"
     ]
    }
   ],
   "source": [
    "#while loop\n",
    "i = 0\n",
    "while i < 10:\n",
    "    print(i)\n",
    "    i = i + 1"
   ]
  },
  {
   "cell_type": "code",
   "execution_count": 63,
   "id": "948b04b5",
   "metadata": {},
   "outputs": [],
   "source": [
    "#defining a function\n",
    "\n",
    "def add_and_multply(parameter1, parameter2):\n",
    "    summation = parameter1 + parameter2\n",
    "    product = parameter1 * parameter2\n",
    "    return summation, product\n",
    "\n",
    "\n"
   ]
  },
  {
   "cell_type": "code",
   "execution_count": 64,
   "id": "531cd5e6",
   "metadata": {},
   "outputs": [
    {
     "name": "stdout",
     "output_type": "stream",
     "text": [
      "102\n",
      "200\n"
     ]
    }
   ],
   "source": [
    "#calling a function\n",
    "som, produkt = add_and_multply(2,100)\n",
    "print(som)\n",
    "print(produkt)"
   ]
  },
  {
   "cell_type": "code",
   "execution_count": 65,
   "id": "7d5b97a5",
   "metadata": {},
   "outputs": [],
   "source": [
    "def addVAT(net_price, VAT_percent=21):\n",
    "    consumer_price = net_price * (1 + VAT_percent/100)\n",
    "    return round(consumer_price, 2)"
   ]
  },
  {
   "cell_type": "code",
   "execution_count": 66,
   "id": "cb18354a",
   "metadata": {},
   "outputs": [
    {
     "name": "stdout",
     "output_type": "stream",
     "text": [
      "121.0\n"
     ]
    }
   ],
   "source": [
    "print(addVAT(100))"
   ]
  },
  {
   "cell_type": "code",
   "execution_count": 67,
   "id": "b6eba910",
   "metadata": {},
   "outputs": [],
   "source": [
    "#ways to create a list"
   ]
  },
  {
   "cell_type": "code",
   "execution_count": 68,
   "id": "e7ff2c97",
   "metadata": {},
   "outputs": [],
   "source": [
    "#1: writing\n",
    "even_number=[0,2,3,5,6,8,9,33,45]"
   ]
  },
  {
   "cell_type": "code",
   "execution_count": 70,
   "id": "2f53f169",
   "metadata": {},
   "outputs": [
    {
     "data": {
      "text/plain": [
       "[0, 2, 3, 5, 6, 8, 9, 33, 45]"
      ]
     },
     "execution_count": 70,
     "metadata": {},
     "output_type": "execute_result"
    }
   ],
   "source": [
    "even_number"
   ]
  },
  {
   "cell_type": "code",
   "execution_count": 73,
   "id": "141f7d9c",
   "metadata": {},
   "outputs": [],
   "source": [
    "#2 for loop\n",
    "even_numbers = []\n",
    "for number in range(21):\n",
    "    if number % 2 == 0:\n",
    "        even_numbers.append(number)"
   ]
  },
  {
   "cell_type": "code",
   "execution_count": 74,
   "id": "e110cbbf",
   "metadata": {},
   "outputs": [
    {
     "data": {
      "text/plain": [
       "[0, 2, 4, 6, 8, 10, 12, 14, 16, 18, 20]"
      ]
     },
     "execution_count": 74,
     "metadata": {},
     "output_type": "execute_result"
    }
   ],
   "source": [
    "even_numbers"
   ]
  },
  {
   "cell_type": "code",
   "execution_count": 75,
   "id": "267fb0cf",
   "metadata": {},
   "outputs": [],
   "source": [
    "even_numbers1 = [number for number in range(21) if number % 2 == 0]"
   ]
  },
  {
   "cell_type": "code",
   "execution_count": 76,
   "id": "a9fa40b5",
   "metadata": {},
   "outputs": [
    {
     "data": {
      "text/plain": [
       "[0, 2, 4, 6, 8, 10, 12, 14, 16, 18, 20]"
      ]
     },
     "execution_count": 76,
     "metadata": {},
     "output_type": "execute_result"
    }
   ],
   "source": [
    "even_numbers1"
   ]
  },
  {
   "cell_type": "code",
   "execution_count": null,
   "id": "2d5d76bc",
   "metadata": {},
   "outputs": [],
   "source": []
  }
 ],
 "metadata": {
  "kernelspec": {
   "display_name": "Python 3",
   "language": "python",
   "name": "python3"
  },
  "language_info": {
   "codemirror_mode": {
    "name": "ipython",
    "version": 3
   },
   "file_extension": ".py",
   "mimetype": "text/x-python",
   "name": "python",
   "nbconvert_exporter": "python",
   "pygments_lexer": "ipython3",
   "version": "3.9.6"
  }
 },
 "nbformat": 4,
 "nbformat_minor": 5
}
