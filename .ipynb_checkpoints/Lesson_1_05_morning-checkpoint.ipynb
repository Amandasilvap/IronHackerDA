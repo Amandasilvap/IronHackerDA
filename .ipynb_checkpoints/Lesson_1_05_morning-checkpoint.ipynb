{
 "cells": [
  {
   "cell_type": "markdown",
   "metadata": {
    "id": "lU3gfGiTXjZn"
   },
   "source": [
    "# Lesson 0"
   ]
  },
  {
   "cell_type": "code",
   "execution_count": null,
   "metadata": {
    "id": "55WE8f9cXlDT"
   },
   "outputs": [],
   "source": [
    "import pandas as pd\n",
    "import numpy as np"
   ]
  },
  {
   "cell_type": "code",
   "execution_count": null,
   "metadata": {
    "id": "bzVqodtUXmwf"
   },
   "outputs": [],
   "source": [
    "# compute the average, std of heights, shoe size\n",
    "heights=[173,195,172,172,174,175,183,173,178,176,160,172,168,169,202]\n",
    "\n",
    "shoe_sizes = [41,45,41,42,39,38,43,40,44,42,]\n"
   ]
  },
  {
   "cell_type": "code",
   "execution_count": null,
   "metadata": {
    "id": "O9_X8ZAF6TpV",
    "outputId": "686b3503-d2bb-4c41-975a-ac1c4cafa145"
   },
   "outputs": [],
   "source": [
    "# 'average' : measures of centrality: mean, median, mode\n",
    "\n",
    "# mean_height = sum(heights)/len(heights)\n",
    "# mean_height\n",
    "\n",
    "# mean_shoesize = sum(shoe_size)/len(shoe_size)\n",
    "# mean_shoesize\n",
    "\n",
    "# mean_height = np.mean(heights)\n",
    "# mean_height\n",
    "\n",
    "# mean_shoesize = np.mean(shoe_size)\n",
    "# mean_shoesize\n",
    "\n",
    "# heights.sort()\n",
    "# heights\n",
    "\n",
    "# median_height = np.median(heights)\n",
    "# median_height\n",
    "\n",
    "# median_shoesize = np.median(shoe_size)\n",
    "# median_shoesize\n",
    "\n",
    "#mode is a bit trickier for lists, dataframes have the describe function\n",
    "# from collections import Counter\n",
    "# data = Counter(heights)\n",
    "# data.most_common()   # Returns all unique items and their counts\n",
    "# data.most_common(1)  # Returns the highest occurring item\n",
    "\n",
    "# # q25, q75 are \"reasonable representatives\" of small/large values just like the central location measures are \"reasonable representatives\" of the totality of values\n",
    "# height_q75 = np.quantile(heights, q=0.75)\n",
    "# height_q75\n",
    "\n"
   ]
  },
  {
   "cell_type": "code",
   "execution_count": null,
   "metadata": {
    "id": "i65M5vkb6TpY",
    "outputId": "81c0137a-188b-4245-b4ba-84d97a842192"
   },
   "outputs": [],
   "source": [
    "# measure of dispersion\n",
    "\n",
    "# standard deviation as a measure of dispersion\n",
    "heights_std =np.std(heights)\n",
    "heights_std\n",
    "\n",
    "# sometimes you also see variance, which is just the square of the standard deviation\n",
    "# var = std ** 2 "
   ]
  },
  {
   "cell_type": "code",
   "execution_count": null,
   "metadata": {
    "id": "2P2THEIF6TpZ",
    "outputId": "40c5b915-4ada-4135-c89b-aaef6240c0ea"
   },
   "outputs": [],
   "source": [
    "import matplotlib.pyplot as plt\n",
    "%matplotlib inline\n",
    "plt.scatter(heights, shoe_size)"
   ]
  },
  {
   "cell_type": "code",
   "execution_count": null,
   "metadata": {
    "id": "NtTehyl56Tpa"
   },
   "outputs": [],
   "source": [
    "# correlation\n",
    "# positive correlation: if x goes up, y also tends to go up\n",
    "# negative correlation: if x goes up, y tends to go down\n",
    "# zero correlation: no visible trend\n",
    "# see image"
   ]
  },
  {
   "cell_type": "code",
   "execution_count": null,
   "metadata": {
    "id": "Zo57dnHDRhtW"
   },
   "outputs": [],
   "source": [
    "pd.set_option('display.max_columns', None)\n",
    "import warnings\n",
    "warnings.filterwarnings('ignore')\n"
   ]
  },
  {
   "cell_type": "code",
   "execution_count": null,
   "metadata": {
    "colab": {
     "base_uri": "https://localhost:8080/",
     "height": 198
    },
    "id": "kHWhe5UjQ7Id",
    "outputId": "ef461d1f-606a-406f-a9a2-4cc3a0eb17b9"
   },
   "outputs": [],
   "source": [
    "data = pd.read_csv('merged_clean_ver1.csv')\n",
    "#data = pd.to_csv('merged_clean_ver1.csv', index=False)\n",
    "data.head()"
   ]
  },
  {
   "cell_type": "markdown",
   "metadata": {
    "id": "-FTZ-rvpQ7Id"
   },
   "source": [
    "# Lesson 1 "
   ]
  },
  {
   "cell_type": "markdown",
   "metadata": {
    "id": "Obtepy-0Q7Id"
   },
   "source": [
    "Measures of central tendency - Mean, median, mode\n",
    "Measures of spread / dispersion - SD, var, range, quartiles, percentiles\n",
    "Meaures of frequency - Frequency\n",
    "Describe function using python"
   ]
  },
  {
   "cell_type": "code",
   "execution_count": null,
   "metadata": {
    "colab": {
     "base_uri": "https://localhost:8080/",
     "height": 378
    },
    "id": "e5JyWN1KQ7Ie",
    "outputId": "fcc60f66-6732-4e9d-ee4f-ced2a4144e37"
   },
   "outputs": [],
   "source": [
    "data.describe()\n",
    "\n",
    "#data.describe().T\n"
   ]
  },
  {
   "cell_type": "code",
   "execution_count": null,
   "metadata": {
    "id": "4IO4hzt1Q7If"
   },
   "outputs": [],
   "source": [
    "data.describe(include='all')"
   ]
  },
  {
   "cell_type": "code",
   "execution_count": null,
   "metadata": {
    "id": "Y6bcDfSlQ7If"
   },
   "outputs": [],
   "source": [
    "data.describe(include=[np.object])"
   ]
  },
  {
   "cell_type": "code",
   "execution_count": null,
   "metadata": {
    "id": "OJ51VRytQ7If",
    "outputId": "8aab93c6-aa04-4b35-b02b-99790767b0f8"
   },
   "outputs": [],
   "source": [
    "summary = data.describe().T\n",
    "summary['iqr'] = summary['75%']-summary['25%']\n",
    "#summary['mean'] = list(map(lambda x: round(x,2), summary['mean']))\n",
    "\n",
    "summary['mean'] = summary['mean'].apply(lambda x: round(x,2))\n",
    "\n",
    "summary"
   ]
  },
  {
   "cell_type": "code",
   "execution_count": null,
   "metadata": {
    "colab": {
     "base_uri": "https://localhost:8080/"
    },
    "id": "6ECP0fvXQ7Ig",
    "outputId": "2b158c90-f652-4bdf-e32e-a0a624d29fad"
   },
   "outputs": [],
   "source": [
    "# activity 1\n",
    "# this activity should be guided, students do not reasonably yet know what are populations / samples\n",
    "# notice that increasing the size of the sample makes the average become \"more consistent\" \n",
    "# also probably good to mention why we would ever use samples (lack of access to full population)\n",
    "\n",
    "import numpy as np\n",
    "\n",
    "population = list(np.random.random(5000))\n",
    "print(round(np.mean(population),2))\n",
    "print(population[:10])\n",
    "print(\"Population mean = \",round(np.mean(population),2))\n",
    "print(\"Population standard deviation = \",round(np.std(population),2))\n",
    "print()\n",
    "print()\n",
    "\n",
    "for i in range(10):\n",
    "    sample = np.random.choice(population, 1000, replace = False)\n",
    "    print(\"Sample \",i)\n",
    "    print(\"----------\")\n",
    "    print(\"Sample mean = \", round(np.mean(sample),2))\n",
    "#    print(\"Sample standard deviation = \", round(np.std(sample, ddof=1),2))  # the concept of degrees of freedom may be advanced at this point\n",
    "\n",
    "    print(\"Sample standard deviation = \", round(np.std(sample),2))  # the concept of degrees of freedom may be advanced at this point\n",
    "\n",
    "    print()\n"
   ]
  },
  {
   "cell_type": "code",
   "execution_count": null,
   "metadata": {
    "id": "togP-HQMelI9"
   },
   "outputs": [],
   "source": [
    "#you can also run activity 2 as well, don't know why that shows up after the lesson on visualization"
   ]
  },
  {
   "cell_type": "code",
   "execution_count": null,
   "metadata": {
    "id": "TRL5vsIN6Tpk"
   },
   "outputs": [],
   "source": []
  },
  {
   "cell_type": "markdown",
   "metadata": {
    "id": "i9RsAJ5vQ7Ig"
   },
   "source": [
    "# Lesson 2  "
   ]
  },
  {
   "cell_type": "code",
   "execution_count": null,
   "metadata": {
    "colab": {
     "base_uri": "https://localhost:8080/",
     "height": 265
    },
    "id": "YWiApdA7eQxf",
    "outputId": "0b3bcd75-7c08-4bda-9fd9-d65dd185d04b"
   },
   "outputs": [],
   "source": [
    "import matplotlib.pyplot as plt\n",
    "import seaborn as sns \n",
    "plt.scatter(x=data['ic2'], y=data['ic3'])\n",
    "plt.show()\n",
    "\n",
    "#there is a clear relation between the two variables (is this expected?) let's quantify that"
   ]
  },
  {
   "cell_type": "code",
   "execution_count": null,
   "metadata": {
    "id": "OZLmp2YRemDV"
   },
   "outputs": [],
   "source": [
    "import scipy.stats as stats"
   ]
  },
  {
   "cell_type": "code",
   "execution_count": null,
   "metadata": {
    "colab": {
     "base_uri": "https://localhost:8080/"
    },
    "id": "xGefz9fWeQ0G",
    "outputId": "d49af33f-5b40-4e7e-e9d3-09ade75dee03"
   },
   "outputs": [],
   "source": [
    "x=data['ic2']\n",
    "y=data['ic3']\n",
    "stats.pearsonr(x, y) # gives correlation coefficient and the p value "
   ]
  },
  {
   "cell_type": "code",
   "execution_count": null,
   "metadata": {
    "colab": {
     "base_uri": "https://localhost:8080/"
    },
    "id": "yoKHkQHgeQ3O",
    "outputId": "2a7a76d0-d2ca-47bf-df6e-c4e94a891d33"
   },
   "outputs": [],
   "source": [
    "x.corr(y) # this is the pandas implementation of the correlation coefficient \n",
    "data['ic2'].corr(data['ic3'])"
   ]
  },
  {
   "cell_type": "code",
   "execution_count": null,
   "metadata": {
    "colab": {
     "base_uri": "https://localhost:8080/"
    },
    "id": "RXmxnb2TeQ5s",
    "outputId": "df5c2f1d-2c98-46ef-fd0b-2f3bae43399a"
   },
   "outputs": [],
   "source": [
    "stats.spearmanr(x, y)"
   ]
  },
  {
   "cell_type": "code",
   "execution_count": null,
   "metadata": {
    "colab": {
     "base_uri": "https://localhost:8080/"
    },
    "id": "LwAaNcbveQ8b",
    "outputId": "68bc3c13-d7dd-43c6-df58-e8140b246a9b"
   },
   "outputs": [],
   "source": [
    "stats.kendalltau(x, y)"
   ]
  },
  {
   "cell_type": "code",
   "execution_count": null,
   "metadata": {
    "id": "uqz3oezAeQ_J"
   },
   "outputs": [],
   "source": []
  }
 ],
 "metadata": {
  "colab": {
   "name": "Lesson_1_05_morning.ipynb",
   "provenance": [],
   "toc_visible": true
  },
  "kernelspec": {
   "display_name": "Python 3",
   "language": "python",
   "name": "python3"
  },
  "language_info": {
   "codemirror_mode": {
    "name": "ipython",
    "version": 3
   },
   "file_extension": ".py",
   "mimetype": "text/x-python",
   "name": "python",
   "nbconvert_exporter": "python",
   "pygments_lexer": "ipython3",
   "version": "3.9.6"
  }
 },
 "nbformat": 4,
 "nbformat_minor": 1
}
